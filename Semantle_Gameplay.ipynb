{
  "cells": [
    {
      "cell_type": "code",
      "execution_count": null,
      "metadata": {
        "id": "4fe_UkMnhZ9i"
      },
      "outputs": [],
      "source": [
        "#!pip install --upgrade numpy\n",
        "#!pip uninstall gensim && pip install gensim\n",
        "import gensim.downloader as api\n",
        "from gensim.models.word2vec import Word2Vec\n",
        "from gensim.models import KeyedVectors\n",
        "import random"
      ]
    },
    {
      "cell_type": "code",
      "execution_count": null,
      "metadata": {
        "id": "CmlFZB33hdg5"
      },
      "outputs": [],
      "source": [
        "words = [\"papaya\", \"noodle\", \"walk\", \"egotistical\"]"
      ]
    },
    {
      "cell_type": "code",
      "execution_count": null,
      "metadata": {
        "colab": {
          "base_uri": "https://localhost:8080/"
        },
        "id": "4PYror-4hhg1",
        "outputId": "66545d01-face-46ac-a9ca-2c649ff8d6e4"
      },
      "outputs": [
        {
          "output_type": "stream",
          "name": "stdout",
          "text": [
            "papaya\n"
          ]
        }
      ],
      "source": [
        "# Generate a random word\n",
        "random_word = random.choice(words)\n",
        "print(random_word)"
      ]
    },
    {
      "cell_type": "code",
      "execution_count": null,
      "metadata": {
        "colab": {
          "base_uri": "https://localhost:8080/"
        },
        "id": "1y0iH0JtnLyV",
        "outputId": "b56eb966-7c82-4357-af10-1ae35fd0372f"
      },
      "outputs": [
        {
          "output_type": "stream",
          "name": "stdout",
          "text": [
            "[==================================================] 100.0% 1662.8/1662.8MB downloaded\n"
          ]
        }
      ],
      "source": [
        "model_google = api.load('word2vec-google-news-300') #w2v used for sim score in semantle"
      ]
    },
    {
      "cell_type": "code",
      "execution_count": null,
      "metadata": {
        "colab": {
          "base_uri": "https://localhost:8080/"
        },
        "id": "-Q7lSTLRmu_F",
        "outputId": "34981f61-2b84-4550-a273-4e489eb74696"
      },
      "outputs": [
        {
          "output_type": "stream",
          "name": "stdout",
          "text": [
            "Guess a word\n",
            "hello\n",
            "Score: 5.37\n",
            "\n",
            "All Guesses\n",
            "hello: 5.37\n",
            "======================\n",
            "\n",
            "Guess a word\n",
            "paper\n",
            "Score: 9.67\n",
            "\n",
            "All Guesses\n",
            "paper: 9.67\n",
            "hello: 5.37\n",
            "======================\n",
            "\n",
            "Guess a word\n",
            "glass\n",
            "Score: 11.90\n",
            "\n",
            "All Guesses\n",
            "glass: 11.90\n",
            "paper: 9.67\n",
            "hello: 5.37\n",
            "======================\n",
            "\n",
            "Guess a word\n",
            "strawberry\n",
            "Score: 51.95\n",
            "\n",
            "All Guesses\n",
            "strawberry: 51.95\n",
            "glass: 11.90\n",
            "paper: 9.67\n",
            "hello: 5.37\n",
            "======================\n",
            "\n",
            "Guess a word\n",
            "passionfruit\n",
            "Score: 47.18\n",
            "\n",
            "All Guesses\n",
            "strawberry: 51.95\n",
            "passionfruit: 47.18\n",
            "glass: 11.90\n",
            "paper: 9.67\n",
            "hello: 5.37\n",
            "======================\n",
            "\n",
            "Guess a word\n",
            "mango\n",
            "Score: 65.23\n",
            "\n",
            "All Guesses\n",
            "mango: 65.23\n",
            "strawberry: 51.95\n",
            "passionfruit: 47.18\n",
            "glass: 11.90\n",
            "paper: 9.67\n",
            "hello: 5.37\n",
            "======================\n",
            "\n",
            "Guess a word\n",
            "guava\n",
            "Score: 62.49\n",
            "\n",
            "All Guesses\n",
            "mango: 65.23\n",
            "guava: 62.49\n",
            "strawberry: 51.95\n",
            "passionfruit: 47.18\n",
            "glass: 11.90\n",
            "paper: 9.67\n",
            "hello: 5.37\n",
            "======================\n",
            "\n",
            "Guess a word\n",
            "pineapple\n",
            "Score: 67.07\n",
            "\n",
            "All Guesses\n",
            "pineapple: 67.07\n",
            "mango: 65.23\n",
            "guava: 62.49\n",
            "strawberry: 51.95\n",
            "passionfruit: 47.18\n",
            "glass: 11.90\n",
            "paper: 9.67\n",
            "hello: 5.37\n",
            "======================\n",
            "\n",
            "Guess a word\n",
            "papaya\n",
            "Score: 100.00\n",
            "\n",
            "All Guesses\n",
            "papaya: 100.00\n",
            "pineapple: 67.07\n",
            "mango: 65.23\n",
            "guava: 62.49\n",
            "strawberry: 51.95\n",
            "passionfruit: 47.18\n",
            "glass: 11.90\n",
            "paper: 9.67\n",
            "hello: 5.37\n",
            "You win\n"
          ]
        }
      ],
      "source": [
        "guess = None\n",
        "guesses = {}\n",
        "while guess != random_word and len(guesses) < 50:\n",
        "  guess = input(\"Guess a word\\n\")\n",
        "  if guess not in model_google:\n",
        "    print(\"Invalid word\")\n",
        "    continue\n",
        "  sim = model_google.similarity(random_word, guess)\n",
        "  guesses[guess] = sim\n",
        "  print(f'Score: {sim * 100:.2f}\\n')\n",
        "  key = lambda x: x[1]\n",
        "  print(f'All Guesses')\n",
        "  for word, score in sorted(guesses.items(), key=key, reverse=True):\n",
        "    print(f'{word}: {score * 100:.2f}')\n",
        "  if guess == random_word:\n",
        "    print(\"You win\")\n",
        "    break\n",
        "  print('======================\\n')"
      ]
    }
  ],
  "metadata": {
    "colab": {
      "provenance": []
    },
    "kernelspec": {
      "display_name": "Python 3",
      "name": "python3"
    },
    "language_info": {
      "name": "python"
    }
  },
  "nbformat": 4,
  "nbformat_minor": 0
}